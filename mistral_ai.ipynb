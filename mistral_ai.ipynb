{
  "cells": [
    {
      "cell_type": "code",
      "execution_count": 1,
      "metadata": {
        "colab": {
          "base_uri": "https://localhost:8080/"
        },
        "collapsed": true,
        "id": "2Svse0LZ4Fkp",
        "outputId": "f9de4669-c068-4b91-8da6-7b176907018b"
      },
      "outputs": [
        {
          "name": "stdout",
          "output_type": "stream",
          "text": [
            "Defaulting to user installation because normal site-packages is not writeable\n",
            "Requirement already satisfied: faiss-cpu==1.7.4 in /Users/ananyanagpal/Library/Python/3.9/lib/python/site-packages (1.7.4)\n",
            "Requirement already satisfied: mistralai in /Users/ananyanagpal/Library/Python/3.9/lib/python/site-packages (0.4.1)\n",
            "Requirement already satisfied: httpx<1,>=0.25 in /Users/ananyanagpal/Library/Python/3.9/lib/python/site-packages (from mistralai) (0.27.0)\n",
            "Requirement already satisfied: orjson<3.11,>=3.9.10 in /Users/ananyanagpal/Library/Python/3.9/lib/python/site-packages (from mistralai) (3.10.5)\n",
            "Requirement already satisfied: pydantic<3,>=2.5.2 in /Users/ananyanagpal/Library/Python/3.9/lib/python/site-packages (from mistralai) (2.7.4)\n",
            "Requirement already satisfied: anyio in /Users/ananyanagpal/Library/Python/3.9/lib/python/site-packages (from httpx<1,>=0.25->mistralai) (4.4.0)\n",
            "Requirement already satisfied: certifi in /Users/ananyanagpal/Library/Python/3.9/lib/python/site-packages (from httpx<1,>=0.25->mistralai) (2024.2.2)\n",
            "Requirement already satisfied: httpcore==1.* in /Users/ananyanagpal/Library/Python/3.9/lib/python/site-packages (from httpx<1,>=0.25->mistralai) (1.0.5)\n",
            "Requirement already satisfied: idna in /Users/ananyanagpal/Library/Python/3.9/lib/python/site-packages (from httpx<1,>=0.25->mistralai) (3.7)\n",
            "Requirement already satisfied: sniffio in /Users/ananyanagpal/Library/Python/3.9/lib/python/site-packages (from httpx<1,>=0.25->mistralai) (1.3.1)\n",
            "Requirement already satisfied: h11<0.15,>=0.13 in /Users/ananyanagpal/Library/Python/3.9/lib/python/site-packages (from httpcore==1.*->httpx<1,>=0.25->mistralai) (0.14.0)\n",
            "Requirement already satisfied: annotated-types>=0.4.0 in /Users/ananyanagpal/Library/Python/3.9/lib/python/site-packages (from pydantic<3,>=2.5.2->mistralai) (0.7.0)\n",
            "Requirement already satisfied: pydantic-core==2.18.4 in /Users/ananyanagpal/Library/Python/3.9/lib/python/site-packages (from pydantic<3,>=2.5.2->mistralai) (2.18.4)\n",
            "Requirement already satisfied: typing-extensions>=4.6.1 in /Users/ananyanagpal/Library/Python/3.9/lib/python/site-packages (from pydantic<3,>=2.5.2->mistralai) (4.12.2)\n",
            "Requirement already satisfied: exceptiongroup>=1.0.2 in /Users/ananyanagpal/Library/Python/3.9/lib/python/site-packages (from anyio->httpx<1,>=0.25->mistralai) (1.2.1)\n"
          ]
        }
      ],
      "source": [
        "! pip install faiss-cpu==1.7.4 mistralai"
      ]
    },
    {
      "cell_type": "code",
      "execution_count": 2,
      "metadata": {
        "colab": {
          "base_uri": "https://localhost:8080/"
        },
        "id": "t-8JZ0Fy4GZc",
        "outputId": "9ac5f252-e7fe-4119-fe5a-2918b100cafa"
      },
      "outputs": [
        {
          "name": "stderr",
          "output_type": "stream",
          "text": [
            "/Users/ananyanagpal/Library/Python/3.9/lib/python/site-packages/urllib3/__init__.py:35: NotOpenSSLWarning: urllib3 v2 only supports OpenSSL 1.1.1+, currently the 'ssl' module is compiled with 'LibreSSL 2.8.3'. See: https://github.com/urllib3/urllib3/issues/3020\n",
            "  warnings.warn(\n"
          ]
        }
      ],
      "source": [
        "from mistralai.client import MistralClient\n",
        "from mistralai.models.chat_completion import ChatMessage\n",
        "import requests\n",
        "import numpy as np\n",
        "import faiss\n",
        "import os\n",
        "from getpass import getpass\n",
        "\n",
        "api_key= getpass(\"Type your API Key\")\n",
        "client = MistralClient(api_key=api_key)"
      ]
    },
    {
      "cell_type": "markdown",
      "metadata": {
        "id": "bYCUKlBP5g4a"
      },
      "source": [
        "## Get Data"
      ]
    },
    {
      "cell_type": "code",
      "execution_count": 4,
      "metadata": {
        "colab": {
          "base_uri": "https://localhost:8080/"
        },
        "id": "CCV_rZO14f16",
        "outputId": "21af665e-bfb3-485b-a2d2-434877391539"
      },
      "outputs": [
        {
          "name": "stdout",
          "output_type": "stream",
          "text": [
            "6753\n"
          ]
        }
      ],
      "source": [
        "# Reading the text file with error handling for different encodings\n",
        "file_path = 'Human_Nutrition.txt'\n",
        "\n",
        "try:\n",
        "    with open(file_path, 'r', encoding='utf-8') as file:\n",
        "        text = file.read()\n",
        "except UnicodeDecodeError:\n",
        "    with open(file_path, 'r', encoding='ISO-8859-1') as file:\n",
        "        text = file.read()\n",
        "\n",
        "# Print the length of the text\n",
        "print(len(text))\n"
      ]
    },
    {
      "cell_type": "markdown",
      "metadata": {
        "id": "ucmNk3eh5o7y"
      },
      "source": [
        "## Split document into chunks"
      ]
    },
    {
      "cell_type": "code",
      "execution_count": 5,
      "metadata": {
        "colab": {
          "base_uri": "https://localhost:8080/"
        },
        "id": "MP_JD3hE4wlO",
        "outputId": "0803523c-166e-49ad-e8a0-82e1b9176b78"
      },
      "outputs": [
        {
          "data": {
            "text/plain": [
              "4"
            ]
          },
          "execution_count": 5,
          "metadata": {},
          "output_type": "execute_result"
        }
      ],
      "source": [
        "chunk_size = 2048\n",
        "chunks = [text[i:i + chunk_size] for i in range(0, len(text), chunk_size)]\n",
        "len(chunks)"
      ]
    },
    {
      "cell_type": "code",
      "execution_count": null,
      "metadata": {
        "id": "aLCT-PAk5Sl1"
      },
      "outputs": [],
      "source": [
        "def get_text_embedding(input):\n",
        "    # Request embeddings for the input text from the \"mistral-embed\" model\n",
        "    embeddings_batch_response = client.embeddings(\n",
        "        model=\"mistral-embed\",\n",
        "        input=input\n",
        "    )\n",
        "\n",
        "    # Return the embedding of the first item in the response\n",
        "    # embeddings_batch_response.data is a list of responses, each with an 'embedding' attribute\n",
        "    return embeddings_batch_response.data[0].embedding\n"
      ]
    },
    {
      "cell_type": "code",
      "execution_count": null,
      "metadata": {
        "id": "rnsaVeql5Ugb"
      },
      "outputs": [],
      "source": [
        "text_embeddings = np.array([get_text_embedding(chunk) for chunk in chunks])"
      ]
    },
    {
      "cell_type": "code",
      "execution_count": null,
      "metadata": {
        "colab": {
          "base_uri": "https://localhost:8080/"
        },
        "id": "InhWc0QY5WOr",
        "outputId": "d3e825a6-7e6b-429e-dea2-b41ca1b080d6"
      },
      "outputs": [
        {
          "data": {
            "text/plain": [
              "(4, 1024)"
            ]
          },
          "execution_count": 45,
          "metadata": {},
          "output_type": "execute_result"
        }
      ],
      "source": [
        "text_embeddings.shape"
      ]
    },
    {
      "cell_type": "code",
      "execution_count": null,
      "metadata": {
        "colab": {
          "base_uri": "https://localhost:8080/"
        },
        "id": "u9uf9DjR5X4D",
        "outputId": "2e0db5d5-9270-4521-f15c-c8a97706e84a"
      },
      "outputs": [
        {
          "data": {
            "text/plain": [
              "array([[-0.00406265,  0.01577759,  0.03512573, ...,  0.00774002,\n",
              "         0.04968262, -0.02374268],\n",
              "       [-0.01263428,  0.01436615,  0.0242157 , ...,  0.01223755,\n",
              "         0.04141235, -0.01473999],\n",
              "       [-0.02081299,  0.01425171,  0.03396606, ..., -0.00672913,\n",
              "         0.04904175, -0.02232361],\n",
              "       [-0.01119232,  0.0196228 ,  0.02223206, ...,  0.01515198,\n",
              "         0.04684448, -0.02009583]])"
            ]
          },
          "execution_count": 46,
          "metadata": {},
          "output_type": "execute_result"
        }
      ],
      "source": [
        "text_embeddings"
      ]
    },
    {
      "cell_type": "markdown",
      "metadata": {
        "id": "5eR6x-Gf6DV6"
      },
      "source": [
        "### Load into a vector database\n"
      ]
    },
    {
      "cell_type": "code",
      "execution_count": null,
      "metadata": {
        "id": "HmIeNPeD5ZOD"
      },
      "outputs": [],
      "source": [
        "d = text_embeddings.shape[1]\n",
        "index = faiss.IndexFlatL2(d)\n",
        "index.add(text_embeddings)"
      ]
    },
    {
      "cell_type": "markdown",
      "metadata": {
        "id": "r5eprPE06Jy5"
      },
      "source": [
        "### Create embeddings for a question"
      ]
    },
    {
      "cell_type": "code",
      "execution_count": null,
      "metadata": {
        "colab": {
          "base_uri": "https://localhost:8080/"
        },
        "id": "ld5WRWWb6IUW",
        "outputId": "93f09c42-7af8-4f58-eb8e-c0c6f19907ba"
      },
      "outputs": [
        {
          "data": {
            "text/plain": [
              "(1, 1024)"
            ]
          },
          "execution_count": 48,
          "metadata": {},
          "output_type": "execute_result"
        }
      ],
      "source": [
        "question = \"What are Lipids? \"\n",
        "question_embeddings = np.array([get_text_embedding(question)])\n",
        "question_embeddings.shape\n"
      ]
    },
    {
      "cell_type": "code",
      "execution_count": null,
      "metadata": {
        "colab": {
          "base_uri": "https://localhost:8080/"
        },
        "id": "k3v5_1kd6VDP",
        "outputId": "352a3b76-8066-43f7-f14b-105a1047298f"
      },
      "outputs": [
        {
          "data": {
            "text/plain": [
              "array([[ 0.00132465,  0.01548767,  0.05230713, ..., -0.00120831,\n",
              "         0.03089905, -0.03286743]])"
            ]
          },
          "execution_count": 49,
          "metadata": {},
          "output_type": "execute_result"
        }
      ],
      "source": [
        "question_embeddings"
      ]
    },
    {
      "cell_type": "markdown",
      "metadata": {
        "id": "YC_z-H936XAa"
      },
      "source": [
        "### Retrieve similar chunks from the vector database"
      ]
    },
    {
      "cell_type": "code",
      "execution_count": null,
      "metadata": {
        "colab": {
          "base_uri": "https://localhost:8080/"
        },
        "id": "tP1T7ruH6Xmw",
        "outputId": "fcff8f76-e978-4558-9a95-c5168c025062"
      },
      "outputs": [
        {
          "name": "stdout",
          "output_type": "stream",
          "text": [
            "[[2 1]]\n"
          ]
        }
      ],
      "source": [
        "D, I = index.search(question_embeddings, k=2)\n",
        "print(I)\n"
      ]
    },
    {
      "cell_type": "code",
      "execution_count": null,
      "metadata": {
        "colab": {
          "base_uri": "https://localhost:8080/"
        },
        "id": "gWuFRlMD6bbj",
        "outputId": "7a91902b-2203-4b0a-d528-319713d6c5cf"
      },
      "outputs": [
        {
          "name": "stdout",
          "output_type": "stream",
          "text": [
            "['s). In addition to energy storage, lipids serve as a major component of\\ncell membranes, surround and protect organs (in fat-storing tissues), provide insulation\\nto aid in temperature regulation, and regulate many other functions in the body.\\n\\nProteins\\nProteins are macromolecules composed of chains of subunits called amino acids.\\nAmino acids are simple subunits composed of carbon, oxygen, hydrogen, and nitrogen.\\nFood sources of proteins include meats, dairy products, seafood, and a variety of\\ndifferent plant- based foods, most notably soy. The word protein comes from a Greek\\nword meaning “of primary importance,” which is an apt description of these\\nmacronutrients; they are also known colloquially as the “workhorses” of life. Proteins\\nprovide four kilocalories of energy per gram; however providing energy is not protein’s\\nmost important function. Proteins provide structure to bones, muscles and skin, and\\n\\n\\x0cplay a role in conducting most of the chemical reactions that take place in the body.\\nScientists estimate that greater than one-hundred thousand different proteins exist\\nwithin the human body. The genetic codes in DNA are basically protein recipes that\\ndetermine the order in which 20 different amino acids are bound together to make\\nthousands of specific proteins.\\n\\nWater\\nThere is one other nutrient that we must have in large quantities: water. Water does not\\ncontain carbon, but is composed of two hydrogens and one oxygen per molecule of\\nwater. More than 60 percent of your total body weight is water. Without it, nothing could\\nbe transported in or out of the body, chemical reactions would not occur, organs would\\nnot be cushioned, and body temperature would fluctuate widely. On average, an adult\\nconsumes just over two liters of water per day from food and drink combined. Since\\nwater is so critical for life’s basic processes, the amount of water input and output is\\nsupremely important, a topic we will explore in detail in\\n\\nMicronutrients\\nMicronutrients are nutrients required by the body in lesser amounts, but are still', 'sser quantities.\\nCarbohydrates\\nare broadly classified into two forms based on their chemical structure: simple\\ncarbohydrates, often called simple sugars; and complex carbohydrates.\\nSimple carbohydrates consist of one or two basic units. Examples of simple sugars\\ninclude sucrose, the type of sugar you would have in a bowl on the breakfast table, and\\n\\n\\x0cglucose, the type of sugar that circulates in your blood. Complex carbohydrates are long\\nchains of simple sugars that can be unbranched or branched. During digestion, the\\nbody breaks down digestible complex carbohydrates to simple sugars, mostly glucose.\\nGlucose is then transported to all our cells where it is stored, used to make energy, or\\nused to build macromolecules. Fiber is also a complex carbohydrate, but it cannot be\\nbroken down by digestive enzymes in the human intestine. As a result, it passes\\nthrough the digestive tract undigested unless the bacteria that inhabit the colon or large\\nintestine break it down. One gram of digestible carbohydrates yields four kilocalories of\\nenergy for the cells in the body to perform work. In addition to providing energy and\\nserving as building blocks for bigger macromolecules, carbohydrates are essential for\\nproper functioning of the nervous system, heart, and kidneys. As mentioned, glucose\\ncan be stored in the body for future use. In humans, the storage molecule of\\ncarbohydrates is called glycogen, and in plants, it is known as starch. Glycogen and\\nstarch are complex carbohydrates.\\n\\nLipids\\nLipids are also a family of molecules composed of carbon, hydrogen, and oxygen, but\\nunlike carbohydrates, they are insoluble in water. Lipids are found predominantly in\\nbutter, oils, meats, dairy products, nuts, and seeds, and in many processed foods. The\\nthree main types of lipids are triglycerides (triacylglycerols), phospholipids, and sterols.\\nThe main job of lipids is to provide or store energy. Lipids provide more energy per gram\\nthan carbohydrates (nine kilocalories per gram of lipids versus four kilocalories per gram\\nof carbohydrate']\n"
          ]
        }
      ],
      "source": [
        "retrieved_chunk = [chunks[i] for i in I.tolist()[0]]\n",
        "print(retrieved_chunk)"
      ]
    },
    {
      "cell_type": "markdown",
      "metadata": {
        "id": "jW4IGrte6cOC"
      },
      "source": [
        "\n",
        "  \n",
        "### Combine context and question in a prompt and generate response\n"
      ]
    },
    {
      "cell_type": "code",
      "execution_count": null,
      "metadata": {
        "id": "Ni0PTfSl6eow"
      },
      "outputs": [],
      "source": [
        "prompt = f\"\"\"\n",
        "Context information is below.\n",
        "---------------------\n",
        "{retrieved_chunk}\n",
        "---------------------\n",
        "Given the context information and not prior knowledge, answer the query.\n",
        "Query: {question}\n",
        "Answer:\n",
        "\"\"\""
      ]
    },
    {
      "cell_type": "code",
      "execution_count": null,
      "metadata": {
        "id": "127Ep81T6hdM"
      },
      "outputs": [],
      "source": [
        "def run_mistral(user_message, model=\"mistral-medium-latest\"):\n",
        "    messages = [\n",
        "        ChatMessage(role=\"user\", content=user_message)\n",
        "    ]\n",
        "    chat_response = client.chat(\n",
        "        model=model,\n",
        "        messages=messages\n",
        "    )\n",
        "    return (chat_response.choices[0].message.content)"
      ]
    },
    {
      "cell_type": "code",
      "execution_count": null,
      "metadata": {
        "colab": {
          "base_uri": "https://localhost:8080/",
          "height": 143
        },
        "id": "4pL9yKyg6lTA",
        "outputId": "3a05e5d3-9894-4995-f1bf-5c3f9e5645be"
      },
      "outputs": [
        {
          "data": {
            "application/vnd.google.colaboratory.intrinsic+json": {
              "type": "string"
            },
            "text/plain": [
              "'Lipids are a family of molecules composed of carbon, hydrogen, and oxygen, but unlike carbohydrates, they are insoluble in water. They are found predominantly in butter, oils, meats, dairy products, nuts, seeds, and many processed foods. The three main types of lipids are triglycerides (triacylglycerols), phospholipids, and sterols. The main job of lipids is to provide or store energy. Lipids provide more energy per gram than carbohydrates (nine kilocalories per gram of lipids versus four kilocalories per gram of carbohydrate). In addition to energy storage, lipids serve as a major component of cell membranes, surround and protect organs (in fat-storing tissues), provide insulation to aid in temperature regulation, and regulate many other functions in the body.'"
            ]
          },
          "execution_count": 55,
          "metadata": {},
          "output_type": "execute_result"
        }
      ],
      "source": [
        "run_mistral(prompt)"
      ]
    }
  ],
  "metadata": {
    "colab": {
      "provenance": []
    },
    "kernelspec": {
      "display_name": "Python 3",
      "name": "python3"
    },
    "language_info": {
      "codemirror_mode": {
        "name": "ipython",
        "version": 3
      },
      "file_extension": ".py",
      "mimetype": "text/x-python",
      "name": "python",
      "nbconvert_exporter": "python",
      "pygments_lexer": "ipython3",
      "version": "3.9.6"
    }
  },
  "nbformat": 4,
  "nbformat_minor": 0
}
